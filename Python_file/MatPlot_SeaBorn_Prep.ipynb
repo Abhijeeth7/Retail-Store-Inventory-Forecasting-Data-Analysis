{
 "cells": [
  {
   "cell_type": "code",
   "id": "initial_id",
   "metadata": {
    "collapsed": true,
    "ExecuteTime": {
     "end_time": "2025-06-26T11:34:39.988632Z",
     "start_time": "2025-06-26T11:34:39.985968Z"
    }
   },
   "source": [
    "import numpy as np\n",
    "import matplotlib.pyplot as plt\n",
    "import pandas as pd\n",
    "import seaborn as sns"
   ],
   "outputs": [],
   "execution_count": 33
  },
  {
   "metadata": {
    "ExecuteTime": {
     "end_time": "2025-06-26T11:34:40.086399Z",
     "start_time": "2025-06-26T11:34:40.000944Z"
    }
   },
   "cell_type": "code",
   "source": [
    "# THIS BIT OF CODE IS ESSENTIAL TO READ THE DATASET\n",
    "data = pd.read_csv(r\"D:\\Retail-Store-Inventory-Forecasting-Data-Analysis\\Retail_Store_Data\\retail_store_inventory.csv\")"
   ],
   "id": "1c9c3bfb71499435",
   "outputs": [],
   "execution_count": 34
  },
  {
   "metadata": {
    "ExecuteTime": {
     "end_time": "2025-06-26T11:34:40.105127Z",
     "start_time": "2025-06-26T11:34:40.099377Z"
    }
   },
   "cell_type": "code",
   "source": [
    "# THIS BIT OF CODE IS ESSENTIAL TO CREATE A COPY OF THE ACTUAL CODE BECAUSE ANY CHANGES IN THIS DATAFRAME WILL NOT AFFECT THE ACTUAL DATASET\n",
    "df = data.copy()"
   ],
   "id": "e408075efaa25e8c",
   "outputs": [],
   "execution_count": 35
  },
  {
   "metadata": {
    "ExecuteTime": {
     "end_time": "2025-06-26T11:34:40.120273Z",
     "start_time": "2025-06-26T11:34:40.116437Z"
    }
   },
   "cell_type": "code",
   "source": [
    "# THIS BIT OF CODE IS ESSENTIAL TO KNOW THE SHAPE OF OUR DATAFRAME(ACTUAL DATASET BEFORE CONVERSION)\n",
    "print(\"No of Rows in this dataset - \", len(df))\n",
    "print(\"-\" * 50)\n",
    "print(\"No of Columns in this dataset - \", df.shape[1])\n",
    "print(\"-\" * 50)\n",
    "print(\"Size of this dataset - \", df.shape)"
   ],
   "id": "5d6c9f53d9383f2b",
   "outputs": [
    {
     "name": "stdout",
     "output_type": "stream",
     "text": [
      "No of Rows in this dataset -  73100\n",
      "--------------------------------------------------\n",
      "No of Columns in this dataset -  15\n",
      "--------------------------------------------------\n",
      "Size of this dataset -  (73100, 15)\n"
     ]
    }
   ],
   "execution_count": 36
  },
  {
   "metadata": {
    "ExecuteTime": {
     "end_time": "2025-06-26T11:34:40.148930Z",
     "start_time": "2025-06-26T11:34:40.132399Z"
    }
   },
   "cell_type": "code",
   "source": [
    "# THIS BIT OF CODE IS ESSENTIAL TO KNOW THE COUNT OF NULL VALUES FROM EVERY ATTRIBUTE\n",
    "print(df.isna().sum())"
   ],
   "id": "913258113544bc06",
   "outputs": [
    {
     "name": "stdout",
     "output_type": "stream",
     "text": [
      "Date                  0\n",
      "Store ID              0\n",
      "Product ID            0\n",
      "Category              0\n",
      "Region                0\n",
      "Inventory Level       0\n",
      "Units Sold            0\n",
      "Units Ordered         0\n",
      "Demand Forecast       0\n",
      "Price                 0\n",
      "Discount              0\n",
      "Weather Condition     0\n",
      "Holiday/Promotion     0\n",
      "Competitor Pricing    0\n",
      "Seasonality           0\n",
      "dtype: int64\n"
     ]
    }
   ],
   "execution_count": 37
  },
  {
   "metadata": {
    "ExecuteTime": {
     "end_time": "2025-06-26T11:34:40.185549Z",
     "start_time": "2025-06-26T11:34:40.160728Z"
    }
   },
   "cell_type": "code",
   "source": [
    "# THIS BIT OF CODE IS ESSENTIAL TO KNOW THE COUNT OF UNIQUE VALUES FROM EVERY ATTRIBUTE\n",
    "print(df.nunique())"
   ],
   "id": "23e6bb78469caf65",
   "outputs": [
    {
     "name": "stdout",
     "output_type": "stream",
     "text": [
      "Date                    731\n",
      "Store ID                  5\n",
      "Product ID               20\n",
      "Category                  5\n",
      "Region                    4\n",
      "Inventory Level         451\n",
      "Units Sold              498\n",
      "Units Ordered           181\n",
      "Demand Forecast       31608\n",
      "Price                  8999\n",
      "Discount                  5\n",
      "Weather Condition         4\n",
      "Holiday/Promotion         2\n",
      "Competitor Pricing     9751\n",
      "Seasonality               4\n",
      "dtype: int64\n"
     ]
    }
   ],
   "execution_count": 38
  },
  {
   "metadata": {
    "ExecuteTime": {
     "end_time": "2025-06-26T11:34:40.204069Z",
     "start_time": "2025-06-26T11:34:40.197416Z"
    }
   },
   "cell_type": "code",
   "source": [
    "# THIS BIT OF CODE IS ESSENTIAL TO KNOW THE RANGE OF YEARS WE ARE DEALING WITH\n",
    "a = df['Date']\n",
    "print(a.head(10))\n",
    "print(\"-\" * 30)\n",
    "print(a.tail(10))"
   ],
   "id": "cefcf54200687a17",
   "outputs": [
    {
     "name": "stdout",
     "output_type": "stream",
     "text": [
      "0    1/1/2022\n",
      "1    1/1/2022\n",
      "2    1/1/2022\n",
      "3    1/1/2022\n",
      "4    1/1/2022\n",
      "5    1/1/2022\n",
      "6    1/1/2022\n",
      "7    1/1/2022\n",
      "8    1/1/2022\n",
      "9    1/1/2022\n",
      "Name: Date, dtype: object\n",
      "------------------------------\n",
      "73090    1/1/2024\n",
      "73091    1/1/2024\n",
      "73092    1/1/2024\n",
      "73093    1/1/2024\n",
      "73094    1/1/2024\n",
      "73095    1/1/2024\n",
      "73096    1/1/2024\n",
      "73097    1/1/2024\n",
      "73098    1/1/2024\n",
      "73099    1/1/2024\n",
      "Name: Date, dtype: object\n"
     ]
    }
   ],
   "execution_count": 39
  },
  {
   "metadata": {
    "ExecuteTime": {
     "end_time": "2025-06-26T11:34:40.220111Z",
     "start_time": "2025-06-26T11:34:40.218028Z"
    }
   },
   "cell_type": "code",
   "source": "",
   "id": "58293cffbe9fe448",
   "outputs": [],
   "execution_count": null
  },
  {
   "metadata": {
    "ExecuteTime": {
     "end_time": "2025-06-26T11:34:40.234204Z",
     "start_time": "2025-06-26T11:34:40.232039Z"
    }
   },
   "cell_type": "code",
   "source": "",
   "id": "f9faa062dab464f7",
   "outputs": [],
   "execution_count": null
  },
  {
   "metadata": {
    "ExecuteTime": {
     "end_time": "2025-06-26T11:34:40.249300Z",
     "start_time": "2025-06-26T11:34:40.246970Z"
    }
   },
   "cell_type": "code",
   "source": "",
   "id": "3940d1695198aa6d",
   "outputs": [],
   "execution_count": null
  }
 ],
 "metadata": {
  "kernelspec": {
   "display_name": "Python 3",
   "language": "python",
   "name": "python3"
  },
  "language_info": {
   "codemirror_mode": {
    "name": "ipython",
    "version": 2
   },
   "file_extension": ".py",
   "mimetype": "text/x-python",
   "name": "python",
   "nbconvert_exporter": "python",
   "pygments_lexer": "ipython2",
   "version": "2.7.6"
  }
 },
 "nbformat": 4,
 "nbformat_minor": 5
}
