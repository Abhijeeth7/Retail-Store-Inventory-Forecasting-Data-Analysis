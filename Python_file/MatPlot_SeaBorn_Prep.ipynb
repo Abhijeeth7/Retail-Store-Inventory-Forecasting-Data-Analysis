{
 "cells": [
  {
   "cell_type": "code",
   "id": "initial_id",
   "metadata": {
    "collapsed": true,
    "ExecuteTime": {
     "end_time": "2025-06-23T08:44:25.856360Z",
     "start_time": "2025-06-23T08:44:25.852823Z"
    }
   },
   "source": [
    "import numpy as np\n",
    "import matplotlib.pyplot as plt\n",
    "import pandas as pd\n",
    "import seaborn as sns"
   ],
   "outputs": [],
   "execution_count": 3
  },
  {
   "metadata": {
    "ExecuteTime": {
     "end_time": "2025-06-23T08:44:25.997485Z",
     "start_time": "2025-06-23T08:44:25.878474Z"
    }
   },
   "cell_type": "code",
   "source": "data = pd.read_csv(r\"D:\\Retail_Store_Data\\retail_store_inventory.csv\")",
   "id": "1c9c3bfb71499435",
   "outputs": [],
   "execution_count": 4
  },
  {
   "metadata": {
    "ExecuteTime": {
     "end_time": "2025-06-23T08:44:26.008107Z",
     "start_time": "2025-06-23T08:44:26.002051Z"
    }
   },
   "cell_type": "code",
   "source": "df = data.copy()",
   "id": "e408075efaa25e8c",
   "outputs": [],
   "execution_count": 5
  },
  {
   "metadata": {
    "ExecuteTime": {
     "end_time": "2025-06-23T08:48:00.020197Z",
     "start_time": "2025-06-23T08:48:00.014717Z"
    }
   },
   "cell_type": "code",
   "source": "print(df.head())",
   "id": "eb2f30ab279b52c6",
   "outputs": [
    {
     "name": "stdout",
     "output_type": "stream",
     "text": [
      "         Date Store ID Product ID     Category Region  Inventory Level  \\\n",
      "0  2022-01-01     S001      P0001    Groceries  North              231   \n",
      "1  2022-01-01     S001      P0002         Toys  South              204   \n",
      "2  2022-01-01     S001      P0003         Toys   West              102   \n",
      "3  2022-01-01     S001      P0004         Toys  North              469   \n",
      "4  2022-01-01     S001      P0005  Electronics   East              166   \n",
      "\n",
      "   Units Sold  Units Ordered  Demand Forecast  Price  Discount  \\\n",
      "0         127             55           135.47  33.50        20   \n",
      "1         150             66           144.04  63.01        20   \n",
      "2          65             51            74.02  27.99        10   \n",
      "3          61            164            62.18  32.72        10   \n",
      "4          14            135             9.26  73.64         0   \n",
      "\n",
      "  Weather Condition  Holiday/Promotion  Competitor Pricing Seasonality  \n",
      "0             Rainy                  0               29.69      Autumn  \n",
      "1             Sunny                  0               66.16      Autumn  \n",
      "2             Sunny                  1               31.32      Summer  \n",
      "3            Cloudy                  1               34.74      Autumn  \n",
      "4             Sunny                  0               68.95      Summer  \n"
     ]
    }
   ],
   "execution_count": 15
  },
  {
   "metadata": {
    "ExecuteTime": {
     "end_time": "2025-06-23T09:36:21.039270Z",
     "start_time": "2025-06-23T09:36:21.036250Z"
    }
   },
   "cell_type": "code",
   "source": [
    "print(\"No of Rows in this dataset - \", len(df))\n",
    "print(\"-\" * 50)\n",
    "print(\"No of Columns in this dataset - \", df.shape[1])\n",
    "print(\"-\" * 50)\n",
    "print(\"Size of this dataset - \", df.shape)"
   ],
   "id": "5d6c9f53d9383f2b",
   "outputs": [
    {
     "name": "stdout",
     "output_type": "stream",
     "text": [
      "No of Rows in this dataset -  73100\n",
      "--------------------------------------------------\n",
      "No of Columns in this dataset -  15\n",
      "--------------------------------------------------\n",
      "Size of this dataset -  (73100, 15)\n"
     ]
    }
   ],
   "execution_count": 46
  },
  {
   "metadata": {
    "ExecuteTime": {
     "end_time": "2025-06-23T08:44:26.266608Z",
     "start_time": "2025-06-23T08:44:26.241972Z"
    }
   },
   "cell_type": "code",
   "source": "df.isna().sum()",
   "id": "913258113544bc06",
   "outputs": [
    {
     "data": {
      "text/plain": [
       "Date                  0\n",
       "Store ID              0\n",
       "Product ID            0\n",
       "Category              0\n",
       "Region                0\n",
       "Inventory Level       0\n",
       "Units Sold            0\n",
       "Units Ordered         0\n",
       "Demand Forecast       0\n",
       "Price                 0\n",
       "Discount              0\n",
       "Weather Condition     0\n",
       "Holiday/Promotion     0\n",
       "Competitor Pricing    0\n",
       "Seasonality           0\n",
       "dtype: int64"
      ]
     },
     "execution_count": 8,
     "metadata": {},
     "output_type": "execute_result"
    }
   ],
   "execution_count": 8
  },
  {
   "metadata": {
    "ExecuteTime": {
     "end_time": "2025-06-23T08:44:26.467333Z",
     "start_time": "2025-06-23T08:44:26.425989Z"
    }
   },
   "cell_type": "code",
   "source": "df.nunique()",
   "id": "23e6bb78469caf65",
   "outputs": [
    {
     "data": {
      "text/plain": [
       "Date                    731\n",
       "Store ID                  5\n",
       "Product ID               20\n",
       "Category                  5\n",
       "Region                    4\n",
       "Inventory Level         451\n",
       "Units Sold              498\n",
       "Units Ordered           181\n",
       "Demand Forecast       31608\n",
       "Price                  8999\n",
       "Discount                  5\n",
       "Weather Condition         4\n",
       "Holiday/Promotion         2\n",
       "Competitor Pricing     9751\n",
       "Seasonality               4\n",
       "dtype: int64"
      ]
     },
     "execution_count": 9,
     "metadata": {},
     "output_type": "execute_result"
    }
   ],
   "execution_count": 9
  },
  {
   "metadata": {
    "ExecuteTime": {
     "end_time": "2025-06-23T09:35:52.182559Z",
     "start_time": "2025-06-23T09:35:52.178614Z"
    }
   },
   "cell_type": "code",
   "source": [
    "a = df['Date']\n",
    "print(a.head(10))\n",
    "print(\"-\" * 30)\n",
    "print(a.tail(10))"
   ],
   "id": "cefcf54200687a17",
   "outputs": [
    {
     "name": "stdout",
     "output_type": "stream",
     "text": [
      "0    2022-01-01\n",
      "1    2022-01-01\n",
      "2    2022-01-01\n",
      "3    2022-01-01\n",
      "4    2022-01-01\n",
      "5    2022-01-01\n",
      "6    2022-01-01\n",
      "7    2022-01-01\n",
      "8    2022-01-01\n",
      "9    2022-01-01\n",
      "Name: Date, dtype: object\n",
      "------------------------------\n",
      "73090    2024-01-01\n",
      "73091    2024-01-01\n",
      "73092    2024-01-01\n",
      "73093    2024-01-01\n",
      "73094    2024-01-01\n",
      "73095    2024-01-01\n",
      "73096    2024-01-01\n",
      "73097    2024-01-01\n",
      "73098    2024-01-01\n",
      "73099    2024-01-01\n",
      "Name: Date, dtype: object\n"
     ]
    }
   ],
   "execution_count": 45
  },
  {
   "metadata": {
    "ExecuteTime": {
     "end_time": "2025-06-23T09:47:27.505029Z",
     "start_time": "2025-06-23T09:47:27.489588Z"
    }
   },
   "cell_type": "code",
   "source": [
    "autumn_cloudy_data = df[(df['Seasonality'] == 'Autumn') & (df['Weather Condition'] == 'Rainy')]\n",
    "if autumn_cloudy_data.empty:\n",
    "    print(\"No data found for 'Autumn' season with 'Cloudy' weather.\")\n",
    "else:\n",
    "    sales_by_region_category = autumn_cloudy_data.groupby(['Region', 'Category']).size().reset_index(name='Sales_Count')\n",
    "\n",
    "    sales_by_region_category = sales_by_region_category.sort_values(\n",
    "        by=['Region', 'Sales_Count'],\n",
    "        ascending=[True, False] # Sort by Region A-Z, then by Sales_Count High-Low\n",
    "    )\n",
    "\n",
    "    print(\"Categories sold in each region during Autumn and Rainy weather condition :\")\n",
    "    print(sales_by_region_category)"
   ],
   "id": "58293cffbe9fe448",
   "outputs": [
    {
     "name": "stdout",
     "output_type": "stream",
     "text": [
      "Categories sold in each region during Autumn and Rainy weather condition :\n",
      "   Region     Category  Sales_Count\n",
      "0    East     Clothing          258\n",
      "3    East    Groceries          243\n",
      "2    East    Furniture          240\n",
      "1    East  Electronics          235\n",
      "4    East         Toys          222\n",
      "8   North    Groceries          243\n",
      "9   North         Toys          236\n",
      "6   North  Electronics          235\n",
      "7   North    Furniture          230\n",
      "5   North     Clothing          202\n",
      "13  South    Groceries          239\n",
      "14  South         Toys          234\n",
      "10  South     Clothing          232\n",
      "12  South    Furniture          208\n",
      "11  South  Electronics          199\n",
      "17   West    Furniture          234\n",
      "16   West  Electronics          232\n",
      "18   West    Groceries          228\n",
      "15   West     Clothing          222\n",
      "19   West         Toys          219\n"
     ]
    }
   ],
   "execution_count": 50
  },
  {
   "metadata": {
    "ExecuteTime": {
     "end_time": "2025-06-23T09:22:09.785001Z",
     "start_time": "2025-06-23T09:22:09.637828Z"
    }
   },
   "cell_type": "code",
   "source": [
    "sales_by_region_category_df = pd.DataFrame(sales_by_region_category)\n",
    "autumn_cloudy_data_fig = sales_by_region_category_df.pivot(index='Region', columns='Category', values='Sales_Count')\n",
    "ax = autumn_cloudy_data_fig.plot(kind='bar', figsize = (12, 8))\n",
    "ax.set_title('Categories Sold by Region (Autumn, Rainy Weather)')\n",
    "ax.set_xlabel('Region')\n",
    "ax.set_ylabel('Sales Count')\n",
    "ax.tick_params(axis='x', rotation=45)\n",
    "for container in ax.containers:\n",
    "        # Loop through each bar in the container\n",
    "        for bar in container:\n",
    "            height = bar.get_height()\n",
    "            # Only annotate if the height is not NaN (in case of missing categories in some regions)\n",
    "            if not pd.isna(height):\n",
    "                ax.annotate(f'{int(height)}', # Format to integer as counts are whole numbers\n",
    "                            xy=(bar.get_x() + bar.get_width() / 2, height), # Position of the text\n",
    "                            xytext=(0, 3),  # 3 points vertical offset\n",
    "                            textcoords=\"offset points\",\n",
    "                            ha='center', va='bottom', # Horizontal and vertical alignment\n",
    "                            fontsize=9,\n",
    "                            color='black')\n",
    "plt.legend(title='Category', bbox_to_anchor=(1.05, 1), loc='upper left')\n",
    "plt.tight_layout()\n",
    "plt.grid(axis='y', linestyle='--', alpha=0.7)\n",
    "plt.show()"
   ],
   "id": "f9faa062dab464f7",
   "outputs": [
    {
     "data": {
      "text/plain": [
       "<Figure size 1200x800 with 1 Axes>"
      ],
      "image/png": "[encoded data removed]"
     },
     "metadata": {},
     "output_type": "display_data"
    }
   ],
   "execution_count": 37
  },
  {
   "metadata": {},
   "cell_type": "code",
   "outputs": [],
   "execution_count": null,
   "source": "",
   "id": "3940d1695198aa6d"
  }
 ],
 "metadata": {
  "kernelspec": {
   "display_name": "Python 3",
   "language": "python",
   "name": "python3"
  },
  "language_info": {
   "codemirror_mode": {
    "name": "ipython",
    "version": 2
   },
   "file_extension": ".py",
   "mimetype": "text/x-python",
   "name": "python",
   "nbconvert_exporter": "python",
   "pygments_lexer": "ipython2",
   "version": "2.7.6"
  }
 },
 "nbformat": 4,
 "nbformat_minor": 5
}
