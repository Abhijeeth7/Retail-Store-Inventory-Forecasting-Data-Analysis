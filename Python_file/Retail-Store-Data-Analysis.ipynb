{
 "cells": [
  {
   "cell_type": "code",
   "id": "initial_id",
   "metadata": {
    "collapsed": true,
    "ExecuteTime": {
     "end_time": "2025-06-26T13:04:10.580344Z",
     "start_time": "2025-06-26T13:04:10.578098Z"
    }
   },
   "source": [
    "import numpy as np\n",
    "import matplotlib.pyplot as plt\n",
    "import pandas as pd\n",
    "import seaborn as sns"
   ],
   "outputs": [],
   "execution_count": 158
  },
  {
   "metadata": {
    "ExecuteTime": {
     "end_time": "2025-06-26T13:04:10.685874Z",
     "start_time": "2025-06-26T13:04:10.602277Z"
    }
   },
   "cell_type": "code",
   "source": [
    "# THIS BIT OF CODE IS ESSENTIAL TO READ THE DATASET\n",
    "data = pd.read_csv(r\"D:\\Retail-Store-Inventory-Forecasting-Data-Analysis\\Retail_Store_Data\\retail_store_inventory.csv\")"
   ],
   "id": "1c9c3bfb71499435",
   "outputs": [],
   "execution_count": 159
  },
  {
   "metadata": {
    "ExecuteTime": {
     "end_time": "2025-06-26T13:04:10.696018Z",
     "start_time": "2025-06-26T13:04:10.689810Z"
    }
   },
   "cell_type": "code",
   "source": [
    "# THIS BIT OF CODE IS ESSENTIAL TO CREATE A COPY OF THE ACTUAL CODE BECAUSE ANY CHANGES IN THIS DATAFRAME WILL NOT AFFECT THE ACTUAL DATASET\n",
    "df = data.copy()"
   ],
   "id": "e408075efaa25e8c",
   "outputs": [],
   "execution_count": 160
  },
  {
   "metadata": {
    "ExecuteTime": {
     "end_time": "2025-06-26T13:04:10.715241Z",
     "start_time": "2025-06-26T13:04:10.711203Z"
    }
   },
   "cell_type": "code",
   "source": [
    "# THIS BIT OF CODE IS ESSENTIAL TO KNOW THE SHAPE OF OUR DATAFRAME(ACTUAL DATASET BEFORE CONVERSION)\n",
    "print(\"No of Rows in this dataset - \", len(df))\n",
    "print(\"-\" * 50)\n",
    "print(\"No of Columns in this dataset - \", df.shape[1])\n",
    "print(\"-\" * 50)\n",
    "print(\"Size of this dataset - \", df.shape)"
   ],
   "id": "5d6c9f53d9383f2b",
   "outputs": [
    {
     "name": "stdout",
     "output_type": "stream",
     "text": [
      "No of Rows in this dataset -  73100\n",
      "--------------------------------------------------\n",
      "No of Columns in this dataset -  15\n",
      "--------------------------------------------------\n",
      "Size of this dataset -  (73100, 15)\n"
     ]
    }
   ],
   "execution_count": 161
  },
  {
   "metadata": {
    "ExecuteTime": {
     "end_time": "2025-06-26T13:04:10.761475Z",
     "start_time": "2025-06-26T13:04:10.745300Z"
    }
   },
   "cell_type": "code",
   "source": [
    "# THIS BIT OF CODE IS ESSENTIAL TO KNOW THE COUNT OF NULL VALUES FROM EVERY ATTRIBUTE\n",
    "print(df.isna().sum())"
   ],
   "id": "913258113544bc06",
   "outputs": [
    {
     "name": "stdout",
     "output_type": "stream",
     "text": [
      "Date                  0\n",
      "Store ID              0\n",
      "Product ID            0\n",
      "Category              0\n",
      "Region                0\n",
      "Inventory Level       0\n",
      "Units Sold            0\n",
      "Units Ordered         0\n",
      "Demand Forecast       0\n",
      "Price                 0\n",
      "Discount              0\n",
      "Weather Condition     0\n",
      "Holiday/Promotion     0\n",
      "Competitor Pricing    0\n",
      "Seasonality           0\n",
      "dtype: int64\n"
     ]
    }
   ],
   "execution_count": 162
  },
  {
   "metadata": {
    "ExecuteTime": {
     "end_time": "2025-06-26T13:04:10.792021Z",
     "start_time": "2025-06-26T13:04:10.766738Z"
    }
   },
   "cell_type": "code",
   "source": [
    "# THIS BIT OF CODE IS ESSENTIAL TO KNOW THE COUNT OF UNIQUE VALUES FROM EVERY ATTRIBUTE\n",
    "print(df.nunique())"
   ],
   "id": "23e6bb78469caf65",
   "outputs": [
    {
     "name": "stdout",
     "output_type": "stream",
     "text": [
      "Date                    731\n",
      "Store ID                  5\n",
      "Product ID               20\n",
      "Category                  5\n",
      "Region                    4\n",
      "Inventory Level         451\n",
      "Units Sold              498\n",
      "Units Ordered           181\n",
      "Demand Forecast       31608\n",
      "Price                  8999\n",
      "Discount                  5\n",
      "Weather Condition         4\n",
      "Holiday/Promotion         2\n",
      "Competitor Pricing     9751\n",
      "Seasonality               4\n",
      "dtype: int64\n"
     ]
    }
   ],
   "execution_count": 163
  },
  {
   "metadata": {
    "ExecuteTime": {
     "end_time": "2025-06-26T13:04:10.815661Z",
     "start_time": "2025-06-26T13:04:10.809428Z"
    }
   },
   "cell_type": "code",
   "source": [
    "# THIS BIT OF CODE IS ESSENTIAL TO KNOW THE RANGE OF YEARS WE ARE DEALING WITH\n",
    "a = df['Date']\n",
    "print(a.head(10))\n",
    "print(\"-\" * 30)\n",
    "print(a.tail(10))"
   ],
   "id": "cefcf54200687a17",
   "outputs": [
    {
     "name": "stdout",
     "output_type": "stream",
     "text": [
      "0    1/1/2022\n",
      "1    1/1/2022\n",
      "2    1/1/2022\n",
      "3    1/1/2022\n",
      "4    1/1/2022\n",
      "5    1/1/2022\n",
      "6    1/1/2022\n",
      "7    1/1/2022\n",
      "8    1/1/2022\n",
      "9    1/1/2022\n",
      "Name: Date, dtype: object\n",
      "------------------------------\n",
      "73090    1/1/2024\n",
      "73091    1/1/2024\n",
      "73092    1/1/2024\n",
      "73093    1/1/2024\n",
      "73094    1/1/2024\n",
      "73095    1/1/2024\n",
      "73096    1/1/2024\n",
      "73097    1/1/2024\n",
      "73098    1/1/2024\n",
      "73099    1/1/2024\n",
      "Name: Date, dtype: object\n"
     ]
    }
   ],
   "execution_count": 164
  },
  {
   "metadata": {
    "ExecuteTime": {
     "end_time": "2025-06-26T13:04:10.841234Z",
     "start_time": "2025-06-26T13:04:10.835486Z"
    }
   },
   "cell_type": "code",
   "source": [
    "# CREATING A NEW COLUMN - 'sales'\n",
    "df['sales'] = df['Units Sold'] * df['Price']"
   ],
   "id": "58293cffbe9fe448",
   "outputs": [],
   "execution_count": 165
  },
  {
   "metadata": {
    "ExecuteTime": {
     "end_time": "2025-06-26T13:04:10.863867Z",
     "start_time": "2025-06-26T13:04:10.859641Z"
    }
   },
   "cell_type": "code",
   "source": "print(df['sales'])",
   "id": "f9faa062dab464f7",
   "outputs": [
    {
     "name": "stdout",
     "output_type": "stream",
     "text": [
      "0         4254.50\n",
      "1         9451.50\n",
      "2         1819.35\n",
      "3         1995.92\n",
      "4         1030.96\n",
      "           ...   \n",
      "73095      589.84\n",
      "73096     4211.07\n",
      "73097      399.96\n",
      "73098    14028.96\n",
      "73099      470.34\n",
      "Name: sales, Length: 73100, dtype: float64\n"
     ]
    }
   ],
   "execution_count": 166
  },
  {
   "metadata": {
    "ExecuteTime": {
     "end_time": "2025-06-26T13:04:10.896375Z",
     "start_time": "2025-06-26T13:04:10.881832Z"
    }
   },
   "cell_type": "code",
   "source": [
    "# Convert date column to datetime\n",
    "df['Date'] = pd.to_datetime(df['Date'])  # Replace 'date' with the actual column name\n",
    "# Extract month\n",
    "df['month'] = df['Date'].dt.month\n",
    "# Extract year for YoY grouping\n",
    "df['year'] = df['Date'].dt.year"
   ],
   "id": "3940d1695198aa6d",
   "outputs": [],
   "execution_count": 167
  },
  {
   "metadata": {
    "ExecuteTime": {
     "end_time": "2025-06-26T13:04:10.922974Z",
     "start_time": "2025-06-26T13:04:10.911781Z"
    }
   },
   "cell_type": "code",
   "source": [
    "# Rebuild your group and keep raw sales\n",
    "yearly_sales = df.groupby('year', as_index=False)['sales'].sum()\n",
    "\n",
    "# Compute YoY growth\n",
    "yearly_sales['yoy_growth_%'] = yearly_sales['sales'].pct_change() * 100\n",
    "\n",
    "# Format nicely (for display only)\n",
    "yearly_sales['sales_formatted'] = yearly_sales['sales'].apply(lambda x: f\"{x:,.2f}\")\n",
    "yearly_sales['yoy_growth_formatted'] = yearly_sales['yoy_growth_%'].apply(lambda x: f\"{x:,.2f}%\" if pd.notnull(x) else \"-\")\n",
    "# Filter out 2024 to focus on complete years\n",
    "filtered_sales = yearly_sales[yearly_sales['year'] < 2024]\n",
    "yearly_sales"
   ],
   "id": "44a2fc9123262faf",
   "outputs": [
    {
     "data": {
      "text/plain": [
       "   year         sales  yoy_growth_% sales_formatted yoy_growth_formatted\n",
       "0  2022  2.760373e+08           NaN  276,037,316.73                    -\n",
       "1  2023  2.735034e+08     -0.917946  273,503,443.82               -0.92%\n",
       "2  2024  6.881244e+05    -99.748404      688,124.36              -99.75%"
      ],
      "text/html": [
       "<div>\n",
       "<style scoped>\n",
       "    .dataframe tbody tr th:only-of-type {\n",
       "        vertical-align: middle;\n",
       "    }\n",
       "\n",
       "    .dataframe tbody tr th {\n",
       "        vertical-align: top;\n",
       "    }\n",
       "\n",
       "    .dataframe thead th {\n",
       "        text-align: right;\n",
       "    }\n",
       "</style>\n",
       "<table border=\"1\" class=\"dataframe\">\n",
       "  <thead>\n",
       "    <tr style=\"text-align: right;\">\n",
       "      <th></th>\n",
       "      <th>year</th>\n",
       "      <th>sales</th>\n",
       "      <th>yoy_growth_%</th>\n",
       "      <th>sales_formatted</th>\n",
       "      <th>yoy_growth_formatted</th>\n",
       "    </tr>\n",
       "  </thead>\n",
       "  <tbody>\n",
       "    <tr>\n",
       "      <th>0</th>\n",
       "      <td>2022</td>\n",
       "      <td>2.760373e+08</td>\n",
       "      <td>NaN</td>\n",
       "      <td>276,037,316.73</td>\n",
       "      <td>-</td>\n",
       "    </tr>\n",
       "    <tr>\n",
       "      <th>1</th>\n",
       "      <td>2023</td>\n",
       "      <td>2.735034e+08</td>\n",
       "      <td>-0.917946</td>\n",
       "      <td>273,503,443.82</td>\n",
       "      <td>-0.92%</td>\n",
       "    </tr>\n",
       "    <tr>\n",
       "      <th>2</th>\n",
       "      <td>2024</td>\n",
       "      <td>6.881244e+05</td>\n",
       "      <td>-99.748404</td>\n",
       "      <td>688,124.36</td>\n",
       "      <td>-99.75%</td>\n",
       "    </tr>\n",
       "  </tbody>\n",
       "</table>\n",
       "</div>"
      ]
     },
     "execution_count": 168,
     "metadata": {},
     "output_type": "execute_result"
    }
   ],
   "execution_count": 168
  },
  {
   "metadata": {
    "ExecuteTime": {
     "end_time": "2025-06-26T13:04:11.065030Z",
     "start_time": "2025-06-26T13:04:10.961918Z"
    }
   },
   "cell_type": "code",
   "source": [
    "# let's visualize year-over-year sales and growth percentage\n",
    "plt.figure(figsize=(10,6))\n",
    "ax = sns.barplot(data=filtered_sales, x='year', y='sales',hue='year', palette='coolwarm',legend=False)\n",
    "\n",
    "# Set plot titles and labels using the Axes object\n",
    "ax.set_title('Total Sales by Year (2022–2023)')\n",
    "ax.set_xlabel('Year')\n",
    "ax.set_ylabel('Total Sales')\n",
    "ax.tick_params(axis='x', rotation=30)\n",
    "\n",
    "# Annotate each bar\n",
    "for conatiner in ax.containers:\n",
    "    for bar in conatiner:\n",
    "        height = bar.get_height()\n",
    "        if not pd.isna(height):\n",
    "            ax.annotate(\n",
    "                f'{height:,.2f}',  # format with commas and 2 decimal places\n",
    "                xy=(bar.get_x() + bar.get_width() / 2, height),\n",
    "                xytext=(0, 1),\n",
    "                textcoords=\"offset points\",\n",
    "                ha='center',\n",
    "                va='bottom',\n",
    "                fontsize=12,\n",
    "                color='black'\n",
    "            )\n",
    "\n",
    "plt.grid(axis='y', linestyle='--', alpha=0.7)\n",
    "plt.tight_layout()\n",
    "plt.show()"
   ],
   "id": "95ab2e0a70cd4b7c",
   "outputs": [
    {
     "data": {
      "text/plain": [
       "<Figure size 1000x600 with 1 Axes>"
      ],
      "image/png": "[encoded data removed]"
     },
     "metadata": {},
     "output_type": "display_data"
    }
   ],
   "execution_count": 169
  },
  {
   "metadata": {
    "ExecuteTime": {
     "end_time": "2025-06-26T13:04:11.181811Z",
     "start_time": "2025-06-26T13:04:11.089179Z"
    }
   },
   "cell_type": "code",
   "source": [
    "plt.figure(figsize=(10,6))\n",
    "ax = sns.lineplot(data=yearly_sales, x='year', y='yoy_growth_%', marker='o', linewidth=2.5, color='darkgreen')\n",
    "\n",
    "# Titles and labels\n",
    "ax.set_title('Year-over-Year Sales Growth (%)')\n",
    "ax.set_xlabel('Year')\n",
    "ax.set_xlim(2022, 2025)\n",
    "ax.set_xticks(range(2022, 2025))\n",
    "ax.set_ylabel('Growth %')\n",
    "ax.tick_params(axis='x', rotation=30)\n",
    "\n",
    "# Annotate each data point directly\n",
    "for i, row in yearly_sales.iterrows():\n",
    "    if pd.notnull(row['yoy_growth_%']):\n",
    "        ax.annotate(\n",
    "            f\"{row['yoy_growth_%']:,.2f}%\",\n",
    "            xy=(row['year'], row['yoy_growth_%']),\n",
    "            xytext=(0, 5),\n",
    "            textcoords=\"offset points\",\n",
    "            ha='center',\n",
    "            fontsize=10,\n",
    "            color='black'\n",
    "        )\n",
    "\n",
    "\n",
    "# Visual details\n",
    "plt.axhline(0, color='gray', linestyle='--')\n",
    "plt.grid(alpha=0.3)\n",
    "plt.tight_layout()\n",
    "plt.show()\n"
   ],
   "id": "4404e4f2075d7dc2",
   "outputs": [
    {
     "data": {
      "text/plain": [
       "<Figure size 1000x600 with 1 Axes>"
      ],
      "image/png": "[encoded data removed]"
     },
     "metadata": {},
     "output_type": "display_data"
    }
   ],
   "execution_count": 170
  },
  {
   "metadata": {
    "ExecuteTime": {
     "end_time": "2025-06-26T13:04:11.189404Z",
     "start_time": "2025-06-26T13:04:11.186805Z"
    }
   },
   "cell_type": "code",
   "source": "",
   "id": "aff79853eeba0a27",
   "outputs": [],
   "execution_count": null
  }
 ],
 "metadata": {
  "kernelspec": {
   "display_name": "Python 3",
   "language": "python",
   "name": "python3"
  },
  "language_info": {
   "codemirror_mode": {
    "name": "ipython",
    "version": 2
   },
   "file_extension": ".py",
   "mimetype": "text/x-python",
   "name": "python",
   "nbconvert_exporter": "python",
   "pygments_lexer": "ipython2",
   "version": "2.7.6"
  }
 },
 "nbformat": 4,
 "nbformat_minor": 5
}
